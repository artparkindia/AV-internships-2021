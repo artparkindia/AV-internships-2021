{
 "cells": [
  {
   "cell_type": "code",
   "execution_count": 1,
   "metadata": {},
   "outputs": [],
   "source": [
    "import numpy as np\n",
    "import os \n",
    "import gc"
   ]
  },
  {
   "cell_type": "code",
   "execution_count": 2,
   "metadata": {},
   "outputs": [],
   "source": [
    "##### Function to Extract data from .txt files\n",
    "def data_extractor(txt_file_path):\n",
    "    \"\"\"\n",
    "       Function to extract time series data \n",
    "       from a .txt file\n",
    "    \"\"\"\n",
    "    #### Reading File\n",
    "    line_list = []\n",
    "    with open(txt_file_path, 'r') as reader:\n",
    "    \n",
    "    # Read and print the entire file line by line\n",
    "        line = reader.readline()\n",
    "        while line != '':  # The EOF char is an empty string\n",
    "            #print(line, end='')\n",
    "            line_list.append(line)\n",
    "            line = reader.readline()\n",
    "\n",
    "    #### Taking the Time Step Data\n",
    "    ##line_list = line_list[1:]\n",
    "\n",
    "    #### Splitting the Collected Text Strings and Converting them into Floating type values\n",
    "    new_list = []\n",
    "    for item in line_list:\n",
    "        sub_list = []\n",
    "        for sub_item in item.split():\n",
    "            sub_list.append(float(sub_item))\n",
    "        new_list.append(sub_list)\n",
    "    ### Deleting Extrass\n",
    "    del(line_list)\n",
    "    gc.collect()\n",
    "    \n",
    "\n",
    "\n",
    "    trimmed_list = []\n",
    "    for j in range(5000,105000):\n",
    "            trimmed_list.append(new_list[j])\n",
    "    ### Deleting Extrass\n",
    "    del(new_list)\n",
    "    gc.collect()\n",
    "\n",
    "    \n",
    "    #### Extracting Final parameters [latitude, longitude, velocity in x, velocity in y]\n",
    "    final_list = []\n",
    "    for item in trimmed_list:\n",
    "        final_list.append([item[0],item[1],item[2], item[3]])\n",
    "    ### Deleting Extraas\n",
    "    del(trimmed_list)\n",
    "    gc.collect()\n",
    "    \n",
    "    ### Returning the feature extracted list as numpy array\n",
    "    return np.array(final_list)"
   ]
  },
  {
   "cell_type": "code",
   "execution_count": 5,
   "metadata": {
    "tags": []
   },
   "outputs": [
    {
     "output_type": "stream",
     "name": "stdout",
     "text": [
      "(80, 100000, 4)\n",
      "[[[ 6.3518e+01  4.6254e+01  1.4030e+00  1.5000e-01]\n",
      "  [ 6.3466e+01  4.6522e+01  1.4050e+00  0.0000e+00]\n",
      "  [ 6.3392e+01  4.6774e+01  1.4060e+00  0.0000e+00]\n",
      "  ...\n",
      "  [ 4.9040e+00  1.0110e+00 -1.6780e+00  4.0000e-02]\n",
      "  [ 4.8960e+00  1.0260e+00 -1.6760e+00  3.0000e-02]\n",
      "  [ 4.9000e+00  1.0430e+00 -1.6780e+00  4.0000e-02]]\n",
      "\n",
      " [[ 6.7053e+01  3.3202e+01  1.3460e+00  0.0000e+00]\n",
      "  [ 5.4466e+01  2.9581e+01  1.1510e+00  0.0000e+00]\n",
      "  [ 5.4299e+01  2.9712e+01  1.1490e+00  0.0000e+00]\n",
      "  ...\n",
      "  [ 5.1330e+00 -9.2000e-02 -1.6810e+00  4.0000e-02]\n",
      "  [ 5.1430e+00 -7.6000e-02 -1.6840e+00  8.0000e-02]\n",
      "  [ 5.1470e+00 -6.8000e-02 -1.6850e+00  8.0000e-02]]\n",
      "\n",
      " [[ 4.2238e+01  2.7255e+01  9.7200e-01  1.0000e-01]\n",
      "  [ 4.2040e+01  2.7314e+01  9.7000e-01  9.0000e-02]\n",
      "  [ 4.1909e+01  2.7417e+01  9.7000e-01  0.0000e+00]\n",
      "  ...\n",
      "  [ 5.0810e+00  2.7500e-01 -1.7070e+00  4.0000e-02]\n",
      "  [ 5.0860e+00  2.9100e-01 -1.7090e+00  4.0000e-02]\n",
      "  [ 5.0760e+00  2.9900e-01 -1.7050e+00  3.0000e-02]]\n",
      "\n",
      " ...\n",
      "\n",
      " [[ 1.6295e+01  2.2213e+01  6.2700e-01  3.9000e-01]\n",
      "  [ 2.2580e+01  3.0866e+01  7.8900e-01  1.6000e-01]\n",
      "  [ 2.2455e+01  3.0898e+01  7.8900e-01  3.4000e-01]\n",
      "  ...\n",
      "  [-5.3240e+00  1.2800e+00 -1.8010e+00  0.0000e+00]\n",
      "  [-5.3170e+00  1.2610e+00 -1.7970e+00  0.0000e+00]\n",
      "  [-5.3300e+00  1.2460e+00 -1.8000e+00  0.0000e+00]]\n",
      "\n",
      " [[ 2.3073e+01  3.1024e+01  7.9600e-01  0.0000e+00]\n",
      "  [ 2.2951e+01  3.1064e+01  7.9500e-01  0.0000e+00]\n",
      "  [ 2.2918e+01  3.1223e+01  7.9700e-01  1.0000e-01]\n",
      "  ...\n",
      "  [-3.8110e+00  3.9230e+00 -1.7990e+00  3.0000e-01]\n",
      "  [-3.8240e+00  3.9110e+00 -1.7990e+00  2.8000e-01]\n",
      "  [-3.8370e+00  3.9010e+00 -1.7990e+00  2.8000e-01]]\n",
      "\n",
      " [[ 1.3776e+01  2.2098e+01  6.0400e-01  2.8000e-01]\n",
      "  [ 1.3720e+01  2.2164e+01  6.0400e-01  0.0000e+00]\n",
      "  [ 1.9329e+01  3.1423e+01  7.6900e-01  8.0000e-02]\n",
      "  ...\n",
      "  [-3.2160e+00  4.3870e+00 -1.7880e+00  2.9000e-01]\n",
      "  [-3.2280e+00  4.3740e+00 -1.7870e+00  2.8000e-01]\n",
      "  [-3.2530e+00  4.3790e+00 -1.7930e+00  2.8000e-01]]]\n"
     ]
    }
   ],
   "source": [
    "### Enter relative path of folder containing all the .txt files\n",
    "dir = 'KITTI_datasets\\\\2011_09_26\\\\2011_09_26_drive_0002_extract\\\\velodyne_points\\\\data'\n",
    "\n",
    "### Creating list to contain data\n",
    "X  = []\n",
    "for file_path in np.sort(os.listdir(dir)):\n",
    "  file_path_final = os.path.join(dir,file_path)\n",
    "  X.append(data_extractor(file_path_final))\n",
    "\n",
    "### Converting list to numpy array\n",
    "X = np.array(X)\n",
    "\n",
    "### Reshaping\n",
    "print(X.shape)\n",
    "\n",
    "### creating single npz data file\n",
    "np.savez_compressed('Dataset_Extractor\\\\2_bicyclist_data.npz',X)\n",
    "\n",
    "### Loading numpy array to variable \n",
    "measurements = np.load('Dataset_Extractor\\\\2_bicyclist_data.npz', allow_pickle=True)['arr_0']\n",
    "print(measurements)"
   ]
  },
  {
   "cell_type": "code",
   "execution_count": 4,
   "metadata": {},
   "outputs": [],
   "source": [
    "#convert the raw image sequence to video for viz\n",
    "\n",
    "import cv2\n",
    "import os\n",
    "\n",
    "image_folder = 'KITTI_datasets\\\\2011_09_26\\\\2011_09_26_drive_0002_extract\\\\image_02\\\\data'\n",
    "video_name = 'video_0002.avi'\n",
    "\n",
    "images = [img for img in os.listdir(image_folder) if img.endswith(\".png\")]\n",
    "frame = cv2.imread(os.path.join(image_folder, images[0]))\n",
    "height, width, layers = frame.shape\n",
    "\n",
    "video = cv2.VideoWriter(video_name, 0, 10, (width,height))\n",
    "\n",
    "for image in images:\n",
    "    video.write(cv2.imread(os.path.join(image_folder, image)))\n",
    "\n",
    "cv2.destroyAllWindows()\n",
    "video.release()"
   ]
  }
 ],
 "metadata": {
  "kernelspec": {
   "name": "python3",
   "display_name": "Python 3.9.5 64-bit"
  },
  "language_info": {
   "codemirror_mode": {
    "name": "ipython",
    "version": 3
   },
   "file_extension": ".py",
   "mimetype": "text/x-python",
   "name": "python",
   "nbconvert_exporter": "python",
   "pygments_lexer": "ipython3",
   "version": "3.9.5"
  },
  "metadata": {
   "interpreter": {
    "hash": "8da01e5a71448ea74f54d88afa8911010d1d12e23bc7e103d40d5def4a09152c"
   }
  },
  "interpreter": {
   "hash": "8da01e5a71448ea74f54d88afa8911010d1d12e23bc7e103d40d5def4a09152c"
  }
 },
 "nbformat": 4,
 "nbformat_minor": 5
}