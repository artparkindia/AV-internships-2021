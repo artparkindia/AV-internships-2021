{
 "cells": [
  {
   "cell_type": "code",
   "execution_count": 2,
   "metadata": {},
   "outputs": [],
   "source": [
    "import numpy as np\n",
    "import cv2\n",
    "from matplotlib import pyplot as plt\n",
    "import pykitti\n",
    "import toml"
   ]
  },
  {
   "cell_type": "code",
   "execution_count": 7,
   "metadata": {},
   "outputs": [],
   "source": [
    "param = toml.load(\"config.toml\")\n",
    "basedir = param.get(\"basedir\")\n",
    "date = param.get(\"date\")\n",
    "drive = param.get(\"drive\")\n",
    "minFeatures = param.get(\"minFeatures\")\n",
    "\n",
    "# Load the data. Optionally, specify the frame range to load.\n",
    "dataset = pykitti.raw(basedir, date, drive)\n",
    "dataset_gray = list(dataset.gray)"
   ]
  },
  {
   "cell_type": "code",
   "execution_count": 4,
   "metadata": {},
   "outputs": [],
   "source": [
    "class Robot:\n",
    "    def __init__(self,calib_mat,minFeatures):\n",
    "        self.k = calib_mat\n",
    "        self.minFeatures = minFeatures \n",
    "        self.r = np.zeros([3,3])\n",
    "        self.t = np.zeros([3,1])\n",
    "        self.pose = np.eye(4)\n",
    "        self.x_loc=[]\n",
    "        self.z_loc=[]\n",
    "        \n",
    "        self.kp1 = []\n",
    "        self.kp2 = []\n",
    "        self.matches = None\n",
    "        \n",
    "    def process_features(self,first_frame,second_frame,calib_matrix):\n",
    "        #create sift detector object\n",
    "        sift = cv2.xfeatures2d.SIFT_create(edgeThreshold=10)\n",
    "        \n",
    "        # Extract sfit features from current and next frame\n",
    "        keypoints_1, descriptors_1 = sift.detectAndCompute(first_frame,None)\n",
    "        keypoints_2, descriptors_2 = sift.detectAndCompute(second_frame,None)\n",
    "        \n",
    "        # Filter those keypoints that are matched across frames only\n",
    "        keypoints_1, keypoints_2 = self.filter_features(descriptors_1, descriptors_2, keypoints_1, keypoints_2)\n",
    "        \n",
    "        # Compute Essential matrix from feature list\n",
    "        E, mask = cv2.findEssentialMat(keypoints_1, keypoints_2, self.k, method=cv2.RANSAC, prob=0.999, threshold=1.0)\n",
    "        \n",
    "        # Compute rotation and translation matrices\n",
    "        _, self.r, self.t, mask = cv2.recoverPose(E, keypoints_2, keypoints_1, self.k)\n",
    "        \n",
    "        return self.r, self.t\n",
    "    \n",
    "    def filter_features(self,descriptors_1, descriptors_2, keypoints_1, keypoints_2):\n",
    "        \n",
    "        #Create brute force matcher object \n",
    "        bf = cv2.BFMatcher(cv2.NORM_L1, crossCheck=True)\n",
    "\n",
    "        self.matches = bf.match(descriptors_1, descriptors_2)\n",
    "        \n",
    "        #sort matches based on distance.\n",
    "        #Lower distance between descripors -> better the match\n",
    "        self.matches = sorted(self.matches, key = lambda x:x.distance)\n",
    "\n",
    "        pts1 = []\n",
    "        pts2 = []\n",
    "        \n",
    "        idx =  self.matches[0:self.minFeatures]\n",
    "\n",
    "        # Gtaher kepyoint objects of filtered matches from respective frames\n",
    "        for i in idx:\n",
    "            pts1.append(keypoints_1[i.queryIdx].pt)\n",
    "            pts2.append(keypoints_2[i.trainIdx].pt)\n",
    "            self.kp1.append(keypoints_1[i.queryIdx])\n",
    "            self.kp2.append(keypoints_2[i.trainIdx])\n",
    "\n",
    "        pts1 = np.array(pts1)\n",
    "        pts2 = np.array(pts2)\n",
    "\n",
    "        return pts1, pts2\n",
    "    \n",
    "    def pose_calc(self,r,t):\n",
    "        \n",
    "        #Combine rotation and translation matrices\n",
    "        new_pose = np.column_stack((r, t))\n",
    "        new_pose = np.vstack((new_pose, np.array([0,0,0,1])))\n",
    "        \n",
    "        self.pose = self.pose @ new_pose\n",
    "        \n",
    "        # Extract x and z coordinate\n",
    "        self.x_loc.append(self.pose[0, -1])\n",
    "        self.z_loc.append(self.pose[2, -1])\n",
    "        \n",
    "    def plot_trajectory(self):\n",
    "        plt.figure(figsize=(6, 6), dpi=100)\n",
    "        plt.title('VO Trajectory')\n",
    "        plt.ylabel('Z')\n",
    "        plt.xlabel('X')\n",
    "        plt.gca().invert_xaxis()\n",
    "        plt.plot(self.x_loc, self.z_loc)\n",
    "        plt.show()\n",
    "        \n",
    "    def sift_visualize(self, first_frame, second_frame):\n",
    "        '''\n",
    "        scale_percent = 40 # percent of original size\n",
    "        width = int(first_frame.shape[1] * scale_percent / 100)\n",
    "        height = int(first_frame.shape[0])\n",
    "        dim = (width, height)\n",
    "        \n",
    "        f1_resized = cv2.resize(first_frame, dim, interpolation = cv2.INTER_AREA)\n",
    "        f2_resized = cv2.resize(second_frame, dim, interpolation = cv2.INTER_AREA)\n",
    "        '''\n",
    "        \n",
    "        img = cv2.drawMatches(first_frame, self.kp1, second_frame, self.kp2, self.matches[:20], second_frame, flags=2)\n",
    "        #img = first_frame\n",
    "        cv2.imshow('features', img)\n",
    "        cv2.waitKey(1)\n",
    "            \n",
    "    \n"
   ]
  },
  {
   "cell_type": "code",
   "execution_count": 8,
   "metadata": {},
   "outputs": [
    {
     "data": {
      "image/png": "[encoded data removed]",
      "text/plain": [
       "<Figure size 600x600 with 1 Axes>"
      ]
     },
     "metadata": {
      "needs_background": "light"
     },
     "output_type": "display_data"
    }
   ],
   "source": [
    "\n",
    "X = Robot(np.asarray(dataset.calib.K_cam0), minFeatures)\n",
    "for i in range(len(dataset_gray) - 50):\n",
    "    frame1 = np.asarray(dataset_gray[i][0])\n",
    "    frame2 = np.asarray(dataset_gray[i+1][0])\n",
    "    \n",
    "    r, t = X.process_features(frame1, frame2, np.asarray(dataset.calib.K_cam0))\n",
    "    \n",
    "    X.pose_calc(r,t)\n",
    "    \n",
    "    # uncomment to visualise sift feature matches\n",
    "    #X.sift_visualize(frame1,frame2)\n",
    "\n",
    "    \n",
    "X.plot_trajectory()    \n",
    "cv2.destroyAllWindows()    "
   ]
  },
  {
   "cell_type": "code",
   "execution_count": null,
   "metadata": {},
   "outputs": [],
   "source": []
  }
 ],
 "metadata": {
  "kernelspec": {
   "display_name": "Python 3",
   "language": "python",
   "name": "python3"
  },
  "language_info": {
   "codemirror_mode": {
    "name": "ipython",
    "version": 3
   },
   "file_extension": ".py",
   "mimetype": "text/x-python",
   "name": "python",
   "nbconvert_exporter": "python",
   "pygments_lexer": "ipython3",
   "version": "3.7.3"
  }
 },
 "nbformat": 4,
 "nbformat_minor": 2
}
