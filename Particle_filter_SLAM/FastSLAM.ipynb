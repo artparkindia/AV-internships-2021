{
 "cells": [
  {
   "cell_type": "markdown",
   "metadata": {
    "id": "Xli14I2yff13"
   },
   "source": [
    "# Getting the CLF Dataset "
   ]
  },
  {
   "cell_type": "code",
   "execution_count": 2,
   "metadata": {
    "id": "Gc6A6A7ifhz2"
   },
   "outputs": [
    {
     "name": "stderr",
     "output_type": "stream",
     "text": [
      "<ipython-input-2-0c358d04d62c>:13: DeprecationWarning: `np.float` is a deprecated alias for the builtin `float`. To silence this warning, use `float` by itself. Doing this will not modify any behavior and is safe. If you specifically wanted the numpy scalar type, use `np.float64` here.\n",
      "Deprecated in NumPy 1.20; for more details and guidance: https://numpy.org/devdocs/release/1.20.0-notes.html#deprecations\n",
      "  scans = np.array(tokens[2:2+num_readings], dtype=np.float)\n"
     ]
    }
   ],
   "source": [
    "#!/usr/bin/env python\n",
    "\n",
    "import matplotlib.pyplot as plt\n",
    "import numpy as np\n",
    "\n",
    "with open('intel.clf', 'r') as f:\n",
    "   lasers = []\n",
    "   odoms = []\n",
    "   for line in f:\n",
    "       tokens = line.split(' ')\n",
    "       if tokens[0] == 'FLASER':\n",
    "           num_readings = int(tokens[1])\n",
    "           scans = np.array(tokens[2:2+num_readings], dtype=np.float)\n",
    "           scan_time = float(tokens[2+num_readings+6])\n",
    "           index = np.arange(-90, 90+180/num_readings, 180/num_readings)\n",
    "           index = np.delete(index, num_readings//2)\n",
    "           converted_scans = []\n",
    "           angles = np.radians(index)\n",
    "           converted_scans = np.array([np.cos(angles), np.sin(angles)]).T * scans[:, np.newaxis]\n",
    "           lasers.append(np.array(converted_scans))\n",
    "           x = float(tokens[2+num_readings])\n",
    "           y = float(tokens[3+num_readings])\n",
    "           theta = float(tokens[4+num_readings])\n",
    "           odoms.append([x, y, theta])\n",
    "\n",
    "odoms = np.array(odoms)\n",
    "lasers = np.array(lasers)\n"
   ]
  },
  {
   "cell_type": "markdown",
   "metadata": {
    "id": "yxRW74JlfgQO"
   },
   "source": [
    "# Plotting raw odometry values"
   ]
  },
  {
   "cell_type": "code",
   "execution_count": 3,
   "metadata": {
    "colab": {
     "base_uri": "https://localhost:8080/",
     "height": 283
    },
    "id": "rO7uv8PnhuSF",
    "outputId": "446df5e1-440c-45e5-85c6-fa63c01294bc"
   },
   "outputs": [
    {
     "data": {
      "text/plain": [
       "[<matplotlib.lines.Line2D at 0x23d17f48430>]"
      ]
     },
     "execution_count": 3,
     "metadata": {},
     "output_type": "execute_result"
    },
    {
     "data": {
      "image/png": "[encoded data removed]",
      "text/plain": [
       "<Figure size 432x288 with 1 Axes>"
      ]
     },
     "metadata": {
      "needs_background": "light"
     },
     "output_type": "display_data"
    }
   ],
   "source": [
    "plt.plot(odoms[:,0],odoms[:,1]) # x and y value"
   ]
  },
  {
   "cell_type": "markdown",
   "metadata": {
    "id": "ZKxPOOUZo0L7"
   },
   "source": [
    "# Getting a set of laser scan values"
   ]
  },
  {
   "cell_type": "code",
   "execution_count": 10,
   "metadata": {
    "colab": {
     "base_uri": "https://localhost:8080/",
     "height": 269
    },
    "id": "sZwSW1kao6op",
    "outputId": "9b669103-59a3-497a-ba85-bfba99f297ed"
   },
   "outputs": [
    {
     "data": {
      "image/png": "[encoded data removed]",
      "text/plain": [
       "<Figure size 432x288 with 1 Axes>"
      ]
     },
     "metadata": {
      "needs_background": "light"
     },
     "output_type": "display_data"
    }
   ],
   "source": [
    "from matplotlib import animation\n",
    "fig = plt.figure()\n",
    "\n",
    "lasers_cart_x = np.zeros((180,))\n",
    "lasers_cart_y = np.zeros((180,)) \n",
    "#scat = plt.scatter(lasers_cart_x,lasers_cart_y)\n",
    "ax = plt.axes(xlim=(-5,5),ylim=(-1,30))\n",
    "line, = ax.plot([], [], lw=2)\n",
    "def init():\n",
    "    line.set_data([], [])\n",
    "    return line,\n",
    "\n",
    "# animation function.  This is called sequentially\n",
    "def animate(k):\n",
    "  for i in range(len(lasers[k, : ,0])):\n",
    "    lasers_cart_y[i] = lasers[k, i, 0]*np.sin(np.radians(i))\n",
    "    lasers_cart_x[i] = lasers[k, i, 0]*np.cos(np.radians(i))\n",
    "  line.set_data(lasers_cart_x,lasers_cart_y)\n",
    "  return line,\n",
    "\n",
    "# call the animator.  blit=True means only re-draw the parts that have changed.\n",
    "anim = animation.FuncAnimation(fig, animate, init_func=init,\n",
    "                               frames=1000, interval=20, blit=True)\n",
    "writergif = animation.PillowWriter(fps=30)\n",
    "anim.save('filename.gif',writer=writergif)\n",
    "\n",
    "plt.show()"
   ]
  },
  {
   "cell_type": "markdown",
   "metadata": {},
   "source": [
    "# Extracting Features"
   ]
  },
  {
   "cell_type": "code",
   "execution_count": 13,
   "metadata": {
    "scrolled": true
   },
   "outputs": [],
   "source": [
    "import math\n",
    "from fraction import Fraction\n",
    "from scipy.odr import *"
   ]
  },
  {
   "cell_type": "code",
   "execution_count": null,
   "metadata": {},
   "outputs": [],
   "source": [
    "class featuresDetection:\n",
    "    def __init__(self):\n",
    "        self.EPSILON = 10\n",
    "        self.DELTA = 501\n",
    "        self.SNUM = 6\n",
    "        self.PMIN = 20\n",
    "        self.GMAX = 20\n",
    "        self.SEED_SEGMENTS = []\n",
    "        self.LINE_SEGMENTS = []\n",
    "        self.LASERPOINTS = []\n",
    "        self.LINE_PARAMS = None\n",
    "        self.NP = len(self.LASERPOINTS) - 1\n",
    "        self.LMIN = 20\n",
    "        self.LR = 0\n",
    "        self.PR = 0\n",
    "        \n",
    "    #Function to check the euclidean distance between two points\n",
    "    def dist_point2point(self, point1,point2):\n",
    "        Px = (point1[0]-point2[0])**2\n",
    "        Py = (point1[1]-point2[1])**2\n",
    "        return math.sqrt(Px + Py)\n",
    "    \n",
    "    #Function to check the distance between a point and a line with the line in the form Ax+By=C\n",
    "    def dist_point2line(self, params, point):\n",
    "        A,B, C = params\n",
    "        distance =abs(A*point[0] + B*point[1]+ C)/math.sqrt(A**2 + B**2)\n",
    "        return distance\n",
    "    #Function to get to points from a line in form y = mx+b\n",
    "    def line_2point(self,m,b):\n",
    "        x = 5;\n",
    "        y = m*x+b\n",
    "        x2 = 2000\n",
    "        y2 = m*x2+b\n",
    "        return [(x,y),(x2,y2)]\n",
    "    \n",
    "    #Function to convert from a Ax+By=C to y = mx +b\n",
    "    def line_G2SI(self, A, B, C):\n",
    "        m = -A/B\n",
    "        b = -C/B\n",
    "        return m,b\n",
    "    \n",
    "    #Function that converts from the slope intercept to general form \n",
    "    def line_SI2G(self, m, B):\n",
    "        A,B,C = -m, 1, -B\n",
    "        if A < 0:\n",
    "            A,B,C = -A, -B,-C\n",
    "        den_a = Fraction(A).limit_denominator(1000).as_integer_ratio()[1]\n",
    "        den_c = Fraction(C).limit_denominator(1000).as_integer_ratio()[1]\n",
    "        \n",
    "        gcd = np.gcd(den_a,den_c)\n",
    "        lcm = den_a*den_c /gcd\n",
    "        \n",
    "        A = A*lcm\n",
    "        B = B*lcm\n",
    "        C = C*lcm\n",
    "        \n",
    "        return A, B, C\n",
    "    \n",
    "    #Function to find the point of intersection of two lines \n",
    "    #Note the two lines are assumed to intersect beforehand\n",
    "    def line_intersect_general(self,params1,params2):\n",
    "        a1,b1,c1 = params1\n",
    "        a2,b2,c2 = params2\n",
    "        x = (c1*b2-b1*c2)/(b1*a2-a1*b2)\n",
    "        y = (a1*c2-a2*c1)/(b1*a2-a1*b2)\n",
    "        return x,y\n",
    "    \n",
    "    #Function to extract the si equation of a line that passes through two given points\n",
    "    def points_2line(self, point1,point2):\n",
    "        m,b=0,0\n",
    "        if point2[0]==point1[0]:\n",
    "            pass\n",
    "        else:\n",
    "            m = (point2[1]-point1[1])/(point2[0]-point1[0])\n",
    "            b = point2[1] - m*point2[0]\n",
    "        return m,b\n",
    "    \n",
    "    #Function that returns a projection of a point to a line as a tuple\n",
    "    def projection_point2line(self , point,m, b):\n",
    "        x, y =point\n",
    "        m2 = -1/m\n",
    "        c2 = y-m2*x\n",
    "        intersection_x = -(b-c2)/(m-m2)\n",
    "        intersection_y = m2*intersection_x+c2\n",
    "        return intersection_x, intersection_y\n",
    "    \n",
    "    #Function to convert from Polar to Cartesian\n",
    "    def pol2cart(self, distance,angle,robot_position):\n",
    "        x = distance * math.cos(angle) + robot_position[0]\n",
    "        y = -distance*math.sin(angle) +robot_position[1]\n",
    "        return(int(x),int(y))\n",
    "    \n",
    "    "
   ]
  },
  {
   "cell_type": "code",
   "execution_count": null,
   "metadata": {},
   "outputs": [],
   "source": []
  }
 ],
 "metadata": {
  "colab": {
   "name": "FastSLAM.ipynb",
   "provenance": []
  },
  "kernelspec": {
   "display_name": "Python 3",
   "language": "python",
   "name": "python3"
  },
  "language_info": {
   "codemirror_mode": {
    "name": "ipython",
    "version": 3
   },
   "file_extension": ".py",
   "mimetype": "text/x-python",
   "name": "python",
   "nbconvert_exporter": "python",
   "pygments_lexer": "ipython3",
   "version": "3.8.8"
  }
 },
 "nbformat": 4,
 "nbformat_minor": 1
}
