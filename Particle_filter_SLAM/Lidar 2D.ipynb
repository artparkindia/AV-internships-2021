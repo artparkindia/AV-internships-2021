{
 "cells": [
  {
   "cell_type": "code",
   "execution_count": 11,
   "id": "1c249568",
   "metadata": {},
   "outputs": [],
   "source": [
    "#!/usr/bin/env python\n",
    "\n",
    "import matplotlib.pyplot as plt\n",
    "import numpy as np\n",
    "\n",
    "with open('intel.clf', 'r') as f:\n",
    "   lasers = []\n",
    "   odoms = []\n",
    "   for line in f:\n",
    "       tokens = line.split(' ')\n",
    "       if tokens[0] == 'FLASER':\n",
    "           num_readings = int(tokens[1])\n",
    "           scans = np.array(tokens[2:2+num_readings], dtype=float)\n",
    "           scan_time = float(tokens[2+num_readings+6])\n",
    "           index = np.arange(-90, 90+180/num_readings, 180/num_readings)\n",
    "           index = np.delete(index, num_readings//2)\n",
    "           converted_scans = []\n",
    "           angles = np.radians(index)\n",
    "           converted_scans = np.array([np.cos(angles), np.sin(angles)]).T * scans[:, np.newaxis]\n",
    "           lasers.append(np.array(converted_scans))\n",
    "           x = float(tokens[2+num_readings])\n",
    "           y = float(tokens[3+num_readings])\n",
    "           theta = float(tokens[4+num_readings])\n",
    "           odoms.append([x, y, theta])\n",
    "\n",
    "odoms = np.array(odoms)\n",
    "lasers = np.array(lasers)\n",
    "lasers = lasers.round(decimals = 2) #rounding of values for downsampling"
   ]
  },
  {
   "cell_type": "code",
   "execution_count": 12,
   "id": "b0703276",
   "metadata": {},
   "outputs": [],
   "source": [
    "# Removing the laser readings that are too far (basic range - based filter)\n",
    "for i in range(len(lasers)):\n",
    "    for j in range(len(lasers[i])):\n",
    "        if lasers[i,j,0]> 10 or lasers[i,j,1] > 10:\n",
    "            lasers[i,j,0] = 0\n",
    "            lasers[i,j,1] = 0"
   ]
  },
  {
   "cell_type": "code",
   "execution_count": 43,
   "id": "bda1ba16",
   "metadata": {},
   "outputs": [
    {
     "data": {
      "image/png": "[encoded data removed]",
      "text/plain": [
       "<Figure size 720x720 with 1 Axes>"
      ]
     },
     "metadata": {
      "needs_background": "light"
     },
     "output_type": "display_data"
    }
   ],
   "source": [
    "#Walking through the lidar values (TODO: The laser scans are not rotated to the bot heading)\n",
    "from IPython.display import clear_output\n",
    "import matplotlib.pyplot as plt\n",
    "plt.rcParams['figure.figsize'] = [10, 10]\n",
    "plt.xlim([-20, 20])\n",
    "\n",
    "for i in range(150,200): #Range of the frames to be viewed ex: 100 to 150\n",
    "    plt.xlim([-20, 20])\n",
    "    plt.ylim([-20,20])\n",
    "    clear_output(wait=True)\n",
    "   #plt.scatter(lasers[i,:,0]*np.sin(odoms[i,2])  + odoms[i,0], lasers[i,:,1]*np.cos(odoms[i,2])+odoms[i,1])\n",
    "    plt.scatter(lasers[i,:,0]  + odoms[i,0], lasers[i,:,1] + odoms[i,1])\n",
    "    plt.pause(.1)\n",
    "plt.show()"
   ]
  },
  {
   "cell_type": "code",
   "execution_count": null,
   "id": "a27b8689",
   "metadata": {},
   "outputs": [],
   "source": [
    "import numpy as np\n",
    "from PIL import Image as im\n",
    "\n",
    "data = im.fromarray(scan_grid)\n",
    "data = data.convert(\"L\")\n",
    "data.save('lidar2d.png')"
   ]
  }
 ],
 "metadata": {
  "kernelspec": {
   "display_name": "Python 3",
   "language": "python",
   "name": "python3"
  },
  "language_info": {
   "codemirror_mode": {
    "name": "ipython",
    "version": 3
   },
   "file_extension": ".py",
   "mimetype": "text/x-python",
   "name": "python",
   "nbconvert_exporter": "python",
   "pygments_lexer": "ipython3",
   "version": "3.8.8"
  }
 },
 "nbformat": 4,
 "nbformat_minor": 5
}
